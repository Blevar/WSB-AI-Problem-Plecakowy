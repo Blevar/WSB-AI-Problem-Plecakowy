{
  "nbformat": 4,
  "nbformat_minor": 0,
  "metadata": {
    "colab": {
      "provenance": [],
      "authorship_tag": "ABX9TyMUZ3LAZxM1a1WFlaLvRmuM",
      "include_colab_link": true
    },
    "kernelspec": {
      "name": "python3",
      "display_name": "Python 3"
    },
    "language_info": {
      "name": "python"
    }
  },
  "cells": [
    {
      "cell_type": "markdown",
      "metadata": {
        "id": "view-in-github",
        "colab_type": "text"
      },
      "source": [
        "<a href=\"https://colab.research.google.com/github/Blevar/WSB-AI-Problem-Plecakowy/blob/main/AI_WSB_Lab_1_Problem_plecakowy.ipynb\" target=\"_parent\"><img src=\"https://colab.research.google.com/assets/colab-badge.svg\" alt=\"Open In Colab\"/></a>"
      ]
    },
    {
      "cell_type": "code",
      "execution_count": 33,
      "metadata": {
        "id": "ur7ek7geL-uz"
      },
      "outputs": [],
      "source": [
        "import numpy as np\n",
        "\n",
        "wagi = np.array([2,3,4,5,9])\n",
        "wartosc = np.array([3,4,8,8,10])\n",
        "pojemnosc = 15"
      ]
    },
    {
      "cell_type": "code",
      "source": [
        "def fitness_function(solution):\n",
        "  total_weight = np.sum(solution * wagi)\n",
        "  total_value = np.sum(solution * wartosc)\n",
        "\n",
        "  if total_weight > pojemnosc:\n",
        "    return 0\n",
        "  else:\n",
        "    return total_value\n",
        "\n",
        "def initialize_population(population_size, chromosome_length):\n",
        "  return np.random.randint(2, size = (population_size, chromosome_length))\n",
        "\n",
        "def crossover(parent1, parent2):\n",
        "  cross_point = np.random.randint(len(parent1))\n",
        "  child = np.concatenate((parent1[:cross_point], parent2[cross_point:]))\n",
        "  return child\n",
        "\n",
        "def mutate(solution, mutation_rate):\n",
        "  for i in range(len(solution)):\n",
        "    if np.random.rand() < mutation_rate:\n",
        "      solution[i] = 1 - solution[i]\n",
        "  return solution"
      ],
      "metadata": {
        "id": "zaFY58dDcfWL"
      },
      "execution_count": 37,
      "outputs": []
    },
    {
      "cell_type": "code",
      "source": [
        "def genetic_algorithm(population_size, chromosome_length, generations, mutation_rate):\n",
        "  population = initialize_population(population_size, chromosome_length)\n",
        "  for _ in range(generations):\n",
        "    fitness_values = np.apply_along_axis(fitness_function, 1, population)\n",
        "    best_solution_index = np.argmax(fitness_values)\n",
        "    best_solution = population[best_solution_index]\n",
        "    new_population = [best_solution]\n",
        "\n",
        "    while len(new_population) < population_size:\n",
        "      parent1, parent2 = np.random.choice(len(population), size = 2, replace = False)\n",
        "      child = crossover(population[parent1], population[parent2])\n",
        "      child = mutate(child, mutation_rate)\n",
        "      new_population.append(child)\n",
        "\n",
        "    population = np.array(new_population)\n",
        "  return population[np.argmax(np.apply_along_axis(fitness_function, 1, population))]"
      ],
      "metadata": {
        "id": "TZEZhGxtepwT"
      },
      "execution_count": 38,
      "outputs": []
    },
    {
      "cell_type": "code",
      "source": [
        "best = genetic_algorithm(population_size = 50, chromosome_length=len(wagi), generations = 100, mutation_rate = 0.01)\n",
        "print(\"Najlepsze rozwiązanie dla problemu plecakowego: \", best)"
      ],
      "metadata": {
        "colab": {
          "base_uri": "https://localhost:8080/"
        },
        "id": "kotE6yrGgQrL",
        "outputId": "88c43b14-1493-4cc2-aa51-489d62fd7fab"
      },
      "execution_count": 41,
      "outputs": [
        {
          "output_type": "stream",
          "name": "stdout",
          "text": [
            "Najlepsze rozwiązanie dla problemu plecakowego:  [1 1 1 1 0]\n"
          ]
        }
      ]
    }
  ]
}